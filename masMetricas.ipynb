{
  "nbformat": 4,
  "nbformat_minor": 0,
  "metadata": {
    "colab": {
      "name": "masMetricas.ipynb",
      "provenance": [],
      "collapsed_sections": []
    },
    "kernelspec": {
      "name": "python3",
      "display_name": "Python 3"
    },
    "language_info": {
      "name": "python"
    }
  },
  "cells": [
    {
      "cell_type": "markdown",
      "metadata": {
        "id": "PhJfT_RgC6EH"
      },
      "source": [
        "# Cargo librerías\n",
        "\n"
      ]
    },
    {
      "cell_type": "code",
      "metadata": {
        "id": "MpWceFVYC_Z4"
      },
      "source": [
        "import numpy as np #manejo de arreglos\n",
        "\n",
        "import matplotlib.pyplot as plt #gráficos\n",
        "\n",
        "# from sklearn.decomposition import PCA #Componentes principales\n",
        "from sklearn.preprocessing import StandardScaler #Escalado de datos\n",
        "\n",
        "from sklearn.linear_model import LogisticRegression #regresión logística\n",
        "\n",
        "# matriz de confusión: https://es.wikipedia.org/wiki/Matriz_de_confusi%C3%B3n\n",
        "# from sklearn.metrics import confusion_matrix, ConfusionMatrixDisplay\n",
        "\n",
        "# métricas para evaluar la clasificación predicha\n",
        "from sklearn.metrics import accuracy_score, recall_score, precision_score\n",
        "# otras métricas se pueden ver acá: https://scikit-learn.org/stable/modules/model_evaluation.html#classification-metrics\n",
        "\n",
        "# más métricas\n",
        "from sklearn.metrics import f1_score, classification_report, plot_roc_curve\n",
        "\n",
        "# divide en conjuntos para entrenar y para testeat\n",
        "from sklearn.model_selection import train_test_split\n",
        "\n",
        "# Tamaño de gráficos\n",
        "plt.rcParams[\"figure.figsize\"] = (10,10)"
      ],
      "execution_count": 37,
      "outputs": []
    },
    {
      "cell_type": "markdown",
      "metadata": {
        "id": "EuVFfj3Oa5BM"
      },
      "source": [
        "# Levanto datos, separo train/test y estandarizo."
      ]
    },
    {
      "cell_type": "code",
      "metadata": {
        "id": "yp7WhyJqEc6o"
      },
      "source": [
        "# El csv está acá: https://www.kaggle.com/ronitf/heart-disease-uci\n",
        "datos = np.loadtxt('./heart.csv',delimiter=',', skiprows=1)#, usecols = (0,2,3,4,5,6,7,8) )\n",
        "nombres = ['age','sex','cp','rbs','sc','fbs120','recr','mhr','eia','op','slope','ca','thal']\n",
        "\n",
        "# extraigo variables (predictoras, features, características, son todos nombres que se usan)\n",
        "X = datos[:,0:-1]\n",
        "# extraigo clasificación (target, labels, etiquetas, son todos nombres que se usan)\n",
        "y = datos[:,-1]\n",
        "\n",
        "# Separo en train/test. El stratify es para conservar el balance de clases.\n",
        "X_train, X_test, y_train, y_test = train_test_split(X, y, stratify=y, test_size=0.3)#, random_state=474077)\n",
        "\n",
        "#IMPORTANTE: sigue estando el problema que el split influye mucho en la predicción. Para resolver, o mejor dicho\n",
        "# amortiguar este efecto, se hace Cross Validation (Validación Cruzada), que por ahora queda en el tintero.\n",
        "# La solución de compromiso que usamos es fijar el random_state para hacer comparables las métricas entre diferentes\n",
        "# experimentos.\n",
        "# De todos modos, puede pensar por su cuenta alguna estrategia para amortiguar el efecto que vimos de la gran variabilidad\n",
        "# que tiene la predicción dependiendo del split aleatorio que se use.\n",
        "\n",
        "\n",
        "# Standarizo datos de ENTRENAMIENTO\n",
        "scaler = StandardScaler()\n",
        "scaler.fit(X_train) #calcula promedio y desvío\n",
        "X_train = scaler.transform(X_train) #estandariza con promedio y desvío anteriores\n",
        "\n",
        "# Standarizo datos de TESTEO con los mismos promedio y desvío calculados para entrenamiento\n",
        "X_test = scaler.transform(X_test)\n",
        "# ¿Por qué hago esto? Porque en teoría los datos de entrenamientos son desconocidos a la hora de entrenar el modelo."
      ],
      "execution_count": null,
      "outputs": []
    },
    {
      "cell_type": "markdown",
      "metadata": {
        "id": "vS3BgvY7a_-q"
      },
      "source": [
        "# Entreno modelo predictor y lo evalúo en TEST"
      ]
    },
    {
      "cell_type": "code",
      "metadata": {
        "colab": {
          "base_uri": "https://localhost:8080/"
        },
        "id": "i-eGLQgLbFcA",
        "outputId": "09ab4614-f935-49d0-e956-02da69ebe385"
      },
      "source": [
        "lg = LogisticRegression() #instancio la clase\n",
        "#entreno modelo predictivo a partir de los datos de ENTRENAMIENTO\n",
        "modelo_lg = lg.fit(X_train, y_train) \n",
        "# clasifico según el modelo, es decir predigo las clases, con los datos de TESTEO.\n",
        "y_pred_test = modelo_lg.predict(X_test) \n",
        "\n",
        "\n",
        "\n",
        "# métricas de evaluación sobre los datos de TESTEO.\n",
        "accuracy = accuracy_score(y_test, y_pred_test)\n",
        "recall = recall_score(y_test, y_pred_test)\n",
        "precision = precision_score(y_test, y_pred_test)\n",
        "f1 = f1_score(y_test, y_pred_test)\n",
        "clasif_report = classification_report(y_test, y_pred_test)\n",
        "\n",
        "print('Métricas sobre datos nuevos de TEST')\n",
        "print('Accuracy: ', round(accuracy,2))\n",
        "print('Recall: ', round(recall,2))\n",
        "print('Precision: ', round(precision,2))\n",
        "print('F1: ', round(f1,2))\n",
        "print('Classification Report:')\n",
        "print(clasif_report)\n",
        "\n",
        "\n",
        "\n",
        "\n",
        "# métricas de evaluación, VARIANDO punto de corte, sobre datos de TESTEO.\n",
        "probas = lg.predict_proba(X_test) #probabilidades de cada clase según modelo predictivo\n",
        "# inspecciono esas probabilidades\n",
        "# with np.printoptions(precision=3, suppress=True):\n",
        "    # print(probas[0:5])\n",
        "\n",
        "# por ejemplo, por defecto asumo que SÍ tiene riesgo cardíco (y=1)\n",
        "y_pred_test_custom = np.ones(y_test.shape)\n",
        "\n",
        "punto_corte = 0.8\n",
        "#y si la probabilidad de y=0 es mayor a punto_corte, lo clasifico como sin riesgo (y=0)\n",
        "# del mismo modo puedo variar el punto de corte para la otra clase y=1.\n",
        "for i in range(probas.shape[0]):\n",
        "    if (probas[i,0]>punto_corte):\n",
        "        y_pred_test_custom[i]=0.\n",
        "# lo anterior se puede hacer más copado con listas por comprensión\n",
        "# https://realpython.com/list-comprehension-python/\n",
        "# https://entrenamiento-python-basico.readthedocs.io/es/latest/leccion10/listas_comprension.html\n",
        "\n",
        "\n",
        "accuracy = accuracy_score(y_test, y_pred_test_custom)\n",
        "recall = recall_score(y_test, y_pred_test_custom)\n",
        "precision = precision_score(y_test, y_pred_test_custom)\n",
        "f1 = f1_score(y_test, y_pred_test_custom)\n",
        "clasif_report = classification_report(y_test, y_pred_test_custom)\n",
        "\n",
        "print('')\n",
        "print('Métricas sobre datos nuevos de TEST con punto de corte arbitrario')\n",
        "print('Accuracy: ', round(accuracy,2))\n",
        "print('Recall: ', round(recall,2))\n",
        "print('Precision: ', round(precision,2))\n",
        "print('F1: ', round(f1,2))\n",
        "print('Classification Report:')\n",
        "print(clasif_report)\n"
      ],
      "execution_count": 40,
      "outputs": [
        {
          "output_type": "stream",
          "name": "stdout",
          "text": [
            "Métricas sobre datos nuevos de TEST\n",
            "Accuracy:  0.85\n",
            "Recall:  0.84\n",
            "Precision:  0.88\n",
            "F1:  0.86\n",
            "Classification Report:\n",
            "              precision    recall  f1-score   support\n",
            "\n",
            "         0.0       0.81      0.85      0.83        41\n",
            "         1.0       0.88      0.84      0.86        50\n",
            "\n",
            "    accuracy                           0.85        91\n",
            "   macro avg       0.84      0.85      0.85        91\n",
            "weighted avg       0.85      0.85      0.85        91\n",
            "\n",
            "\n",
            "Métricas sobre datos nuevos de TEST con punto de corte arbitrario\n",
            "Accuracy:  0.84\n",
            "Recall:  0.98\n",
            "Precision:  0.78\n",
            "F1:  0.87\n",
            "Classification Report:\n",
            "              precision    recall  f1-score   support\n",
            "\n",
            "         0.0       0.96      0.66      0.78        41\n",
            "         1.0       0.78      0.98      0.87        50\n",
            "\n",
            "    accuracy                           0.84        91\n",
            "   macro avg       0.87      0.82      0.82        91\n",
            "weighted avg       0.86      0.84      0.83        91\n",
            "\n"
          ]
        }
      ]
    },
    {
      "cell_type": "markdown",
      "metadata": {
        "id": "8qFqJyy-gKKQ"
      },
      "source": [
        "# Evaluación en TEST por Curva ROC\n",
        "\n",
        "https://en.wikipedia.org/wiki/Receiver_operating_characteristic"
      ]
    },
    {
      "cell_type": "code",
      "metadata": {
        "colab": {
          "base_uri": "https://localhost:8080/",
          "height": 623
        },
        "id": "R3qo0hnZgiGm",
        "outputId": "f9db1604-3364-43f8-a97f-1c58e82054d9"
      },
      "source": [
        "# funciona solamente para clasificación binaria (2 clases)\n",
        "# para muchas clases se puede ver esto: \n",
        "# https://scikit-learn.org/stable/auto_examples/model_selection/plot_roc.html#sphx-glr-auto-examples-model-selection-plot-roc-py\n",
        "plot_roc_curve(modelo_lg, X_test, y_test)"
      ],
      "execution_count": 39,
      "outputs": [
        {
          "output_type": "execute_result",
          "data": {
            "text/plain": [
              "<sklearn.metrics._plot.roc_curve.RocCurveDisplay at 0x7ff9311fb110>"
            ]
          },
          "metadata": {},
          "execution_count": 39
        },
        {
          "output_type": "display_data",
          "data": {
            "image/png": "[encoded data removed]",
            "text/plain": [
              "<Figure size 720x720 with 1 Axes>"
            ]
          },
          "metadata": {
            "needs_background": "light"
          }
        }
      ]
    },
    {
      "cell_type": "markdown",
      "metadata": {
        "id": "r9QRy1_RhCtW"
      },
      "source": [
        "# Teoría sobre las métricas"
      ]
    },
    {
      "cell_type": "markdown",
      "metadata": {
        "id": "PfDGwnHv9EGU"
      },
      "source": [
        "# Matriz de confusión:\n",
        "\n",
        "![2021-09-09-171945_589x183_scrot.png](data:image/png;base64,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)\n",
        "\n",
        "- VP = verdadero positivo\n",
        "- VN = verdadero negativo\n",
        "- FP = falso positivo\n",
        "- FN = falso negativo\n",
        "\n",
        "# Métricas para evaluar la clasificación:\n",
        "\n",
        "### Accuracy\n",
        "$$\\text{Accuracy = }\\frac{VP+VN}{Total} = \\frac{VP+VN}{VP+VN+FP+FN}$$\n",
        "\n",
        "### Recall\n",
        "$$\\text{Recall = }\\frac{VP}{VP+FN}$$\n",
        "\n",
        "### Precision\n",
        "$$\\text{Precision = }\\frac{VP}{VP+FP}$$\n",
        "\n",
        "### F1-score: media armónica entre Precision (_P_) y Recall (_R_)\n",
        "$$ \\text{F}_1 = \\left(\\frac{R^{-1}+P^{-1}}{2}\\right)^{-1} = 2\\frac{R.P}{R+P} = \\frac{VP}{VP + \\frac{1}{2}(FP+FN)}$$\n",
        "\n",
        "### True Positive Rate = Recall\n",
        "\n",
        "### True Negative Rate = Specificity (Especificidad)\n",
        "$$ \\text{TNR = Specificity = } \\frac{VN}{VN+FP} $$ \n",
        "\n",
        "### False Positive Rate\n",
        "$$ \\text{FPR = } \\frac{FP}{FP+VN} = 1 - \\text{Specificity} $$\n",
        "\n",
        "### Curva ROC: gráfico FPR vs. TPR.\n",
        "\n",
        "### AUC: area under curve (donde curve es la curva ROC).\n",
        "- Es un promedio de los valores de la curva ROC.\n",
        "\n",
        "### Papers donde muestran que la AUC es una mucho mejor medida que el accuracy para comparar modelos predictores **en términos generales**.\n",
        "\n",
        "- https://www.csd.uwo.ca/~xling/papers/ijcai03.pdf\n",
        "- https://cse.hkust.edu.hk/~qyang/537/Papers/AUC-evaluation.pdf"
      ]
    }
  ]
}