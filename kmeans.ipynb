{
  "nbformat": 4,
  "nbformat_minor": 5,
  "metadata": {
    "kernelspec": {
      "display_name": "Python 3",
      "language": "python",
      "name": "python3"
    },
    "language_info": {
      "codemirror_mode": {
        "name": "ipython",
        "version": 3
      },
      "file_extension": ".py",
      "mimetype": "text/x-python",
      "name": "python",
      "nbconvert_exporter": "python",
      "pygments_lexer": "ipython3",
      "version": "3.7.10"
    },
    "papermill": {
      "default_parameters": {},
      "duration": 107.924066,
      "end_time": "2021-10-03T13:21:53.077460",
      "environment_variables": {},
      "exception": null,
      "input_path": "__notebook__.ipynb",
      "output_path": "__notebook__.ipynb",
      "parameters": {},
      "start_time": "2021-10-03T13:20:05.153394",
      "version": "2.3.3"
    },
    "colab": {
      "name": "kmeans.ipynb",
      "provenance": [],
      "collapsed_sections": []
    }
  },
  "cells": [
    {
      "cell_type": "markdown",
      "metadata": {
        "papermill": {
          "duration": 0.02504,
          "end_time": "2021-10-03T13:20:13.738876",
          "exception": false,
          "start_time": "2021-10-03T13:20:13.713836",
          "status": "completed"
        },
        "tags": [],
        "id": "fcfe2f64"
      },
      "source": [
        "# Librerías y configuraciones"
      ],
      "id": "fcfe2f64"
    },
    {
      "cell_type": "code",
      "metadata": {
        "execution": {
          "iopub.execute_input": "2021-10-03T13:20:13.800648Z",
          "iopub.status.busy": "2021-10-03T13:20:13.799980Z",
          "iopub.status.idle": "2021-10-03T13:20:15.238873Z",
          "shell.execute_reply": "2021-10-03T13:20:15.239458Z",
          "shell.execute_reply.started": "2021-10-03T13:16:43.909738Z"
        },
        "papermill": {
          "duration": 1.476731,
          "end_time": "2021-10-03T13:20:15.239757",
          "exception": false,
          "start_time": "2021-10-03T13:20:13.763026",
          "status": "completed"
        },
        "tags": [],
        "id": "52756fc0"
      },
      "source": [
        "# Arrays para manipular datos\n",
        "import numpy as np\n",
        "import pandas as pd\n",
        "\n",
        "# Gráficos\n",
        "import matplotlib.pyplot as plt\n",
        "plt.rcParams[\"figure.figsize\"] = (12, 8)\n",
        "import seaborn as sns\n",
        "sns.set(style=\"darkgrid\", font_scale=1.5)\n",
        "\n",
        "# Ciencia de datos, machine learning\n",
        "from sklearn.preprocessing import StandardScaler\n",
        "from sklearn.decomposition import PCA\n",
        "from sklearn.cluster import KMeans\n",
        "from sklearn.metrics import silhouette_score"
      ],
      "id": "52756fc0",
      "execution_count": 71,
      "outputs": []
    },
    {
      "cell_type": "markdown",
      "metadata": {
        "papermill": {
          "duration": 0.023536,
          "end_time": "2021-10-03T13:20:15.287367",
          "exception": false,
          "start_time": "2021-10-03T13:20:15.263831",
          "status": "completed"
        },
        "tags": [],
        "id": "f9d470f6"
      },
      "source": [
        "# Carga de datos"
      ],
      "id": "f9d470f6"
    },
    {
      "cell_type": "code",
      "metadata": {
        "execution": {
          "iopub.execute_input": "2021-10-03T13:20:15.338788Z",
          "iopub.status.busy": "2021-10-03T13:20:15.337850Z",
          "iopub.status.idle": "2021-10-03T13:20:15.386298Z",
          "shell.execute_reply": "2021-10-03T13:20:15.386805Z",
          "shell.execute_reply.started": "2021-10-03T13:16:45.229081Z"
        },
        "papermill": {
          "duration": 0.075564,
          "end_time": "2021-10-03T13:20:15.386994",
          "exception": false,
          "start_time": "2021-10-03T13:20:15.311430",
          "status": "completed"
        },
        "tags": [],
        "id": "fa9b7528"
      },
      "source": [
        "# https://drive.google.com/file/d/1sWLmuazrRKlb1_c88soFRqQYF0wXCxgT/view?usp=sharing\n",
        "data = pd.read_csv(\"./wine.csv\")\n",
        "data.head()"
      ],
      "id": "fa9b7528",
      "execution_count": null,
      "outputs": []
    },
    {
      "cell_type": "markdown",
      "metadata": {
        "papermill": {
          "duration": 0.069452,
          "end_time": "2021-10-03T13:20:53.199634",
          "exception": false,
          "start_time": "2021-10-03T13:20:53.130182",
          "status": "completed"
        },
        "tags": [],
        "id": "22a16579"
      },
      "source": [
        "# Escalado\n",
        "\n"
      ],
      "id": "22a16579"
    },
    {
      "cell_type": "code",
      "metadata": {
        "execution": {
          "iopub.execute_input": "2021-10-03T13:20:53.376831Z",
          "iopub.status.busy": "2021-10-03T13:20:53.359040Z",
          "iopub.status.idle": "2021-10-03T13:20:53.382081Z",
          "shell.execute_reply": "2021-10-03T13:20:53.381495Z",
          "shell.execute_reply.started": "2021-10-03T13:17:21.537530Z"
        },
        "papermill": {
          "duration": 0.112439,
          "end_time": "2021-10-03T13:20:53.382251",
          "exception": false,
          "start_time": "2021-10-03T13:20:53.269812",
          "status": "completed"
        },
        "tags": [],
        "id": "dc5620aa"
      },
      "source": [
        "scaler = StandardScaler()\n",
        "scaler.fit(data)\n",
        "data_escalada = scaler.transform(data)"
      ],
      "id": "dc5620aa",
      "execution_count": 73,
      "outputs": []
    },
    {
      "cell_type": "markdown",
      "metadata": {
        "papermill": {
          "duration": 0.072132,
          "end_time": "2021-10-03T13:20:53.528746",
          "exception": false,
          "start_time": "2021-10-03T13:20:53.456614",
          "status": "completed"
        },
        "tags": [],
        "id": "44cfc6dc"
      },
      "source": [
        "# PCA exploratorio\n",
        "\n"
      ],
      "id": "44cfc6dc"
    },
    {
      "cell_type": "code",
      "metadata": {
        "execution": {
          "iopub.execute_input": "2021-10-03T13:20:53.688037Z",
          "iopub.status.busy": "2021-10-03T13:20:53.687335Z",
          "iopub.status.idle": "2021-10-03T13:20:53.690412Z",
          "shell.execute_reply": "2021-10-03T13:20:53.689792Z",
          "shell.execute_reply.started": "2021-10-03T13:17:21.577831Z"
        },
        "papermill": {
          "duration": 0.090355,
          "end_time": "2021-10-03T13:20:53.690573",
          "exception": false,
          "start_time": "2021-10-03T13:20:53.600218",
          "status": "completed"
        },
        "tags": [],
        "id": "95f0e3c7"
      },
      "source": [
        "# instancio la clase\n",
        "pca = PCA(n_components=2)\n",
        "# calculo PCA\n",
        "pca.fit(data_escalada)\n",
        "# transformo los datos originales al plano PCA\n",
        "pca_data = pca.transform(data_escalada)\n",
        "\n",
        "# cálculo varianza explicada\n",
        "vars = pca.explained_variance_ratio_\n",
        "var1 = round(100*vars[0],2)\n",
        "var2 = round(100*vars[1],2)\n",
        "\n",
        "# gráfico\n",
        "plt.scatter(x=pca_data[:,0], y=pca_data[:,1], lw=2)\n",
        "plt.xlabel(\"Componente principal 1 ({}%)\".format(var1))\n",
        "plt.ylabel(\"Componente principal 2 ({}%)\".format(var2))\n",
        "plt.title(\"Análisis por componentes principales\")\n",
        "plt.show()"
      ],
      "id": "95f0e3c7",
      "execution_count": null,
      "outputs": []
    },
    {
      "cell_type": "markdown",
      "metadata": {
        "papermill": {
          "duration": 0.070258,
          "end_time": "2021-10-03T13:20:54.403157",
          "exception": false,
          "start_time": "2021-10-03T13:20:54.332899",
          "status": "completed"
        },
        "tags": [],
        "id": "c8db377b"
      },
      "source": [
        "# Clustering (agrupamiento) por K-means"
      ],
      "id": "c8db377b"
    },
    {
      "cell_type": "code",
      "metadata": {
        "execution": {
          "iopub.execute_input": "2021-10-03T13:20:54.702431Z",
          "iopub.status.busy": "2021-10-03T13:20:54.701588Z",
          "iopub.status.idle": "2021-10-03T13:20:55.590787Z",
          "shell.execute_reply": "2021-10-03T13:20:55.591301Z",
          "shell.execute_reply.started": "2021-10-03T13:17:21.920832Z"
        },
        "papermill": {
          "duration": 0.972709,
          "end_time": "2021-10-03T13:20:55.591495",
          "exception": false,
          "start_time": "2021-10-03T13:20:54.618786",
          "status": "completed"
        },
        "tags": [],
        "id": "b32d4418"
      },
      "source": [
        "# Elijo la cantidad de clusters\n",
        "cant_clusters = 3\n",
        "# instancio la clase\n",
        "kmeans = KMeans(n_clusters=cant_clusters)#, random_state=42)\n",
        "# entreno al modelo\n",
        "kmeans.fit(data_escalada)\n",
        "# que me prediga el cluster para cada dato\n",
        "y_kmeans = pd.Series(kmeans.predict(data_escalada))\n",
        "\n",
        "# que me diga los centroides\n",
        "centroides = kmeans.cluster_centers_\n",
        "# transformo los centroides al plano PCA para poderlos graficar\n",
        "centroides_pca = pca.transform(centroides)\n",
        "\n",
        "# grafico en el plano PCA datos, clusters y centroides\n",
        "plt.scatter(pca_data[:,0],pca_data[:,1], c=kmeans.labels_, cmap=\"Paired\")\n",
        "plt.scatter(centroides_pca[:,0],centroides_pca[:, 1], c=\"red\", s=200)\n",
        "plt.xlabel(\"Componente principal 1 ({}%)\".format(var1))\n",
        "plt.ylabel(\"Componente principal 2 ({}%)\".format(var2))\n",
        "plt.title(\"Visualización de clusters por PCA\")\n",
        "plt.show()"
      ],
      "id": "b32d4418",
      "execution_count": null,
      "outputs": []
    },
    {
      "cell_type": "markdown",
      "metadata": {
        "id": "FGmQZYn2chbJ"
      },
      "source": [
        "# Exploración de las características de los clusters"
      ],
      "id": "FGmQZYn2chbJ"
    },
    {
      "cell_type": "code",
      "metadata": {
        "id": "9TS35gTZcBDh"
      },
      "source": [
        "# Agrega una nueva variable con el cluster al que pertenece cada observación\n",
        "data[\"Cluster\"] = y_kmeans\n",
        "\n",
        "# Calculo la media de cada variable para cada cluster\n",
        "data.groupby([\"Cluster\"]).mean()"
      ],
      "id": "9TS35gTZcBDh",
      "execution_count": null,
      "outputs": []
    },
    {
      "cell_type": "code",
      "metadata": {
        "id": "IsV9edzddVTs"
      },
      "source": [
        "# densidades para cada variable, y scatter plots dos a dos, identificando cada cluster.\n",
        "sns.pairplot(data, hue=\"Cluster\", palette=['green','orange','brown'])\n",
        "plt.show()"
      ],
      "id": "IsV9edzddVTs",
      "execution_count": null,
      "outputs": []
    },
    {
      "cell_type": "markdown",
      "metadata": {
        "id": "Pj3KXJoZgamQ"
      },
      "source": [
        "# Si hago K-means sobre los datos **sin** escalar, ¿las características de los clusters cambian?"
      ],
      "id": "Pj3KXJoZgamQ"
    },
    {
      "cell_type": "code",
      "metadata": {
        "id": "m0aFRTPignCF"
      },
      "source": [
        "# Elijo la cantidad de clusters\n",
        "cant_clusters = 3\n",
        "# instancio la clase\n",
        "kmeans = KMeans(n_clusters=cant_clusters)#, random_state=42)\n",
        "# entreno al modelo en datos SIN escalar\n",
        "kmeans.fit(data) \n",
        "# que me prediga el cluster para cada dato SIN escalar\n",
        "y_kmeans = pd.Series(kmeans.predict(data))\n",
        "\n",
        "\n",
        "# Agrega una nueva variable con el cluster al que pertenece cada observación\n",
        "data[\"Cluster\"] = y_kmeans\n",
        "# Calculo la media de cada variable para cada cluster\n",
        "data.groupby([\"Cluster\"]).mean()"
      ],
      "id": "m0aFRTPignCF",
      "execution_count": null,
      "outputs": []
    },
    {
      "cell_type": "code",
      "metadata": {
        "id": "4w8qQXP1hPcu"
      },
      "source": [
        "# densidades para cada variable, y scatter plots dos a dos, identificando cada cluster.\n",
        "sns.pairplot(data, hue=\"Cluster\", palette=['green','orange','brown'])\n",
        "plt.show()\n",
        "\n",
        "# CORRER y comparar contra el anterior."
      ],
      "id": "4w8qQXP1hPcu",
      "execution_count": null,
      "outputs": []
    },
    {
      "cell_type": "markdown",
      "metadata": {
        "id": "M-oijGjGiitf"
      },
      "source": [
        "# ¿Y se puede visualizar por PCA con los datos sin escalar?"
      ],
      "id": "M-oijGjGiitf"
    },
    {
      "cell_type": "code",
      "metadata": {
        "id": "C9v7KacMin8A"
      },
      "source": [
        "# instancio la clase\n",
        "pca = PCA(n_components=2)\n",
        "# calculo PCA sobre datos SIN escalar\n",
        "pca.fit(data)\n",
        "# transformo los datos originales al plano PCA\n",
        "pca_data = pca.transform(data)\n",
        "\n",
        "# calculo varianza explicada\n",
        "vars = pca.explained_variance_ratio_\n",
        "var1 = round(100*vars[0],2)\n",
        "var2 = round(100*vars[1],2)\n",
        "\n",
        "# que me diga los centroides\n",
        "centroides = kmeans.cluster_centers_\n",
        "# transformo los centroides al plano PCA para poderlos graficar\n",
        "centroides_pca = pca.transform(centroides)\n",
        "\n",
        "# grafico en el plano PCA datos, clusters y centroides\n",
        "plt.scatter(pca_data[:,0],pca_data[:,1], c=kmeans.labels_, cmap=\"Paired\")\n",
        "plt.scatter(centroides_pca[:,0],centroides_pca[:, 1], c=\"red\", s=200)\n",
        "plt.xlabel(\"Componente principal 1 ({}%)\".format(var1))\n",
        "plt.ylabel(\"Componente principal 2 ({}%)\".format(var2))\n",
        "plt.title(\"Visualización de clusters por PCA (datos sin escalar)\")\n",
        "plt.show()\n"
      ],
      "id": "C9v7KacMin8A",
      "execution_count": null,
      "outputs": []
    },
    {
      "cell_type": "markdown",
      "metadata": {
        "id": "UQT6ttFnnvo-"
      },
      "source": [
        "# ¿Y cómo averiguar las posibles cantidades de clusters?\n",
        "\n",
        "## Una forma es por el Silhouette score"
      ],
      "id": "UQT6ttFnnvo-"
    },
    {
      "cell_type": "code",
      "metadata": {
        "id": "MCyNRcpWmYNC"
      },
      "source": [
        "# Silhouette score: va entre -1 y 1 (1 es lo mejor).\n",
        "# https://scikit-learn.org/stable/modules/generated/sklearn.metrics.silhouette_score.html\n",
        "# https://scikit-learn.org/stable/modules/clustering.html#silhouette-coefficient\n",
        "\n",
        "silhouette_scores = []\n",
        "rango_clusters = range(2,21)\n",
        "\n",
        "for i in rango_clusters:\n",
        "    # para cada valor de i, calculo kmeans y silhouette\n",
        "    k_means = KMeans(n_clusters=i)\n",
        "    k_means.fit(data_escalada)\n",
        "    \n",
        "    sil_score = silhouette_score(data_escalada, labels=k_means.labels_)\n",
        "    silhouette_scores.append(sil_score)\n",
        "\n",
        "plt.plot(rango_clusters,silhouette_scores)\n",
        "plt.xticks(rango_clusters)\n",
        "plt.xlabel('Cantidad de clusters')\n",
        "plt.ylabel('Score Silhouette')\n",
        "plt.title('Los máximos locales son los candidatos según Silhouette')\n",
        "plt.show()"
      ],
      "id": "MCyNRcpWmYNC",
      "execution_count": null,
      "outputs": []
    }
  ]
}