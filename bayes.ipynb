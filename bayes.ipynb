{
  "nbformat": 4,
  "nbformat_minor": 0,
  "metadata": {
    "colab": {
      "name": "bayes.ipynb",
      "provenance": [],
      "collapsed_sections": []
    },
    "kernelspec": {
      "name": "python3",
      "display_name": "Python 3"
    },
    "language_info": {
      "name": "python"
    }
  },
  "cells": [
    {
      "cell_type": "markdown",
      "metadata": {
        "id": "PhJfT_RgC6EH"
      },
      "source": [
        "# Cargo librerías\n",
        "\n"
      ]
    },
    {
      "cell_type": "code",
      "metadata": {
        "id": "MpWceFVYC_Z4"
      },
      "source": [
        "import numpy as np #manejo de arreglos\n",
        "\n",
        "import matplotlib.pyplot as plt #gráficos\n",
        "\n",
        "from sklearn.decomposition import PCA #Componentes principales\n",
        "from sklearn.preprocessing import StandardScaler #Escalado de datos\n",
        "\n",
        "from sklearn.naive_bayes import GaussianNB #clasificador bayesiano ingenuo\n",
        "# se pueden probar otros, por ej. MultinomialNB.\n",
        "# La lista completa está acá: https://scikit-learn.org/stable/modules/naive_bayes.html\n",
        "\n",
        "# matriz de confusión: https://es.wikipedia.org/wiki/Matriz_de_confusi%C3%B3n\n",
        "from sklearn.metrics import confusion_matrix, ConfusionMatrixDisplay\n",
        "\n",
        "# Tamaño de gráficos\n",
        "plt.rcParams[\"figure.figsize\"] = (8,8)"
      ],
      "execution_count": 23,
      "outputs": []
    },
    {
      "cell_type": "markdown",
      "metadata": {
        "id": "bGqA6huKDnsf"
      },
      "source": [
        "# Datos y exploración"
      ]
    },
    {
      "cell_type": "code",
      "metadata": {
        "id": "VNZ0-hvNDsbG"
      },
      "source": [
        "#https://www.kaggle.com/ronitf/heart-disease-uci\n",
        "datos = np.loadtxt('./heart.csv',delimiter=',', skiprows=1)#, usecols = (0,2,3,4,5,6,7,8) )\n",
        "nombres = ['age','sex','cp','rbs','sc','fbs120','recr','mhr','eia','op','slope','ca','thal']\n",
        "\n",
        "# Hay veces conviene así, si los datos tiene faltantes\n",
        "# https://www.kaggle.com/adityakadiwal/water-potability\n",
        "# datos = np.genfromtxt('./water_potability.csv',delimiter=',', skip_header=1)#, usecols = (1,2,3,4) )\n",
        "#elimina todas las filas con \"nan\"\n",
        "# datos = datos[~np.isnan(datos).any(axis=1)]\n",
        "\n",
        "\n",
        "# extraigo variables (predictoras, features, características, son todos nombres que se usan)\n",
        "X = datos[:,0:-1]\n",
        "# print(X.shape)\n",
        "# print(X[0:5,:])\n",
        "\n",
        "# extraigo clasificación (target, labels, etiquetas, son todos nombres que se usan)\n",
        "y = datos[:,-1]\n",
        "# print(y.shape)\n",
        "# print(y[0:5])\n",
        "\n",
        "\n",
        "# Escalo los datos: en general es buena idea para que el algoritmo funcione mejor\n",
        "scaler = StandardScaler()\n",
        "scaler.fit(X) #calcula promedio y desvío\n",
        "X = scaler.transform(X) #estandariza con promedio y desvío antes calculado"
      ],
      "execution_count": 24,
      "outputs": []
    },
    {
      "cell_type": "markdown",
      "metadata": {
        "id": "r-8A5dfGEZIc"
      },
      "source": [
        "# Clasificador bayesiano ingenuo"
      ]
    },
    {
      "cell_type": "code",
      "metadata": {
        "id": "8UAUyObMEfwh"
      },
      "source": [
        "gnb = GaussianNB() #instancio la clase\n",
        "modelo_gnb = gnb.fit(X, y) #entreno modelo predictivo a partir de los datos, es decir construyo en borde de decisión\n",
        "y_pred = modelo_gnb.predict(X) #clasifico según modelo. Por defecto clasifica según la clase con probablidad más alta\n",
        "\n",
        "# Es una mala idea predecir con los mismos datos de entrenamiento: recordar que el objetivo es\n",
        "# predecir la clasif. de datos NUEVOS no utilizados para entrenar el modelo.\n",
        "# Por ahora lo dejamos así, pero pueden investigar si quieren y pueden.\n",
        "\n",
        "# matriz de confusión\n",
        "conf = confusion_matrix(y,y_pred)\n",
        "\n",
        "# grafico matriz de confusión\n",
        "disp = ConfusionMatrixDisplay(confusion_matrix=conf, display_labels=gnb.classes_)\n",
        "disp.plot(values_format='d') "
      ],
      "execution_count": null,
      "outputs": []
    },
    {
      "cell_type": "markdown",
      "metadata": {
        "id": "vC4SZHMzEoEw"
      },
      "source": [
        "# Clasificación por punto de corte arbitrario"
      ]
    },
    {
      "cell_type": "code",
      "metadata": {
        "id": "0mI0_zWwEsW0"
      },
      "source": [
        "probas = gnb.predict_proba(X) #probabilidades de cada clase según modelo predictivo\n",
        "# inspecciono esas probabilidades\n",
        "with np.printoptions(precision=3, suppress=True):\n",
        "    print(probas[0:20])\n",
        "\n",
        "# por ejemplo, por defecto asumo que SÍ tiene riesgo cardíco (y=1)\n",
        "y_pred_07 = np.ones(y_pred.shape)\n",
        "\n",
        "#y si la probabilidad de no tener es mayor a 0.7, lo clasifico como sin riesgo (y=0)\n",
        "for i in range(probas.shape[0]):\n",
        "    if (probas[i,0]>0.7):\n",
        "        y_pred_07[i]=0.\n",
        "# lo anterior se puede hacer más copado con listas por comprensión\n",
        "# https://realpython.com/list-comprehension-python/\n",
        "# https://entrenamiento-python-basico.readthedocs.io/es/latest/leccion10/listas_comprension.html\n",
        "\n",
        "\n",
        "conf_07 = confusion_matrix(y,y_pred_07)\n",
        "\n",
        "disp_07 = ConfusionMatrixDisplay(confusion_matrix=conf_07, display_labels=gnb.classes_)\n",
        "disp_07.plot(values_format='d') "
      ],
      "execution_count": null,
      "outputs": []
    },
    {
      "cell_type": "markdown",
      "metadata": {
        "id": "nJVmu-wNG3LZ"
      },
      "source": [
        "# Visualizar resultados por Componentes principales"
      ]
    },
    {
      "cell_type": "code",
      "metadata": {
        "id": "lJ-UZLyHG6yS"
      },
      "source": [
        "pca = PCA()\n",
        "pca.fit(X)\n",
        "x_new = pca.transform(X)\n",
        "\n",
        "\n",
        "def myplot(score,coeff,clases,labels=None):\n",
        "    plt.figure()\n",
        "    \n",
        "    x1 = score[:,0]\n",
        "    x2 = score[:,1]\n",
        "    n = coeff.shape[0]\n",
        "\n",
        "    scatter = plt.scatter(x1, x2, c=clases, alpha=0.5)#, cmap=colours)\n",
        "    \n",
        "    # print(scatter.legend_elements())\n",
        "    # muestra etiquetas de las clases de la clasificación\n",
        "    plt.legend(handles=scatter.legend_elements()[0], labels=scatter.legend_elements()[1], fontsize=16)\n",
        "\n",
        "    # flechas de las proyecciones de las variables originales\n",
        "    for i in range(n):\n",
        "        plt.arrow(0, 0, coeff[i,0], coeff[i,1], color = 'r', alpha = 0.5)\n",
        "        if labels is None:\n",
        "            plt.text(coeff[i,0]* 1.15, coeff[i,1] * 1.15, \"Var\"+str(i+1), color = 'g', ha = 'center', va = 'center', fontsize=14)\n",
        "        else:\n",
        "            plt.text(coeff[i,0]* 1.15, coeff[i,1] * 1.15, labels[i], color = 'g', ha = 'center', va = 'center', fontsize=14)\n",
        "\n",
        "\n",
        "\n",
        "#Grafico las primeras dos componentes principales para cada clasificación\n",
        "\n",
        "#clasificación real\n",
        "myplot(x_new[:,0:2], pca.components_, y, nombres)\n",
        "plt.xlabel(\"PC{}\".format(1))\n",
        "plt.ylabel(\"PC{}\".format(2))\n",
        "plt.title(\"Clasificación real\")\n",
        "plt.grid()\n",
        "plt.show()\n",
        "\n",
        "#clasificación bayes ingenuo\n",
        "myplot(x_new[:,0:2], pca.components_, y_pred, nombres)\n",
        "plt.xlabel(\"PC{}\".format(1))\n",
        "plt.ylabel(\"PC{}\".format(2))\n",
        "plt.title(\"Clasificación predicción Bayes ingenuo\")\n",
        "plt.grid()\n",
        "plt.show()\n",
        "\n",
        "#clasif. bayes ingenuo con punto de corte 0.7 para y=0\n",
        "myplot(x_new[:,0:2], pca.components_, y_pred_07, nombres)\n",
        "plt.xlabel(\"PC{}\".format(1))\n",
        "plt.ylabel(\"PC{}\".format(2))\n",
        "plt.title(\"Clasificación predicción Bayes ingenuo, con punto de corte 0.7 para y=0\")\n",
        "plt.grid()\n",
        "plt.show()\n"
      ],
      "execution_count": null,
      "outputs": []
    }
  ]
}